{
 "cells": [
  {
   "cell_type": "code",
   "execution_count": 1,
   "id": "c0b9be8c-eb90-48d0-b0bd-777c6217b0ce",
   "metadata": {},
   "outputs": [],
   "source": [
    "i = 1"
   ]
  },
  {
   "cell_type": "code",
   "execution_count": 2,
   "id": "b659dafa-82f6-472c-bbad-b4ca33a2c6b9",
   "metadata": {},
   "outputs": [],
   "source": [
    "j = 2"
   ]
  },
  {
   "cell_type": "code",
   "execution_count": 3,
   "id": "37706881-12a9-4837-ad2b-513380433299",
   "metadata": {},
   "outputs": [],
   "source": [
    "k = i + j"
   ]
  },
  {
   "cell_type": "code",
   "execution_count": 4,
   "id": "28c221f2-7fcc-400b-b0b5-f8b24452a1c5",
   "metadata": {},
   "outputs": [
    {
     "data": {
      "text/plain": [
       "3"
      ]
     },
     "execution_count": 4,
     "metadata": {},
     "output_type": "execute_result"
    }
   ],
   "source": [
    "k"
   ]
  },
  {
   "cell_type": "markdown",
   "id": "0628c497-0a20-42f8-ac27-1af068d61720",
   "metadata": {},
   "source": [
    "# This is Markdown Heading\n",
    "\n",
    "**Bold Text**\n",
    "\n",
    "- List 1\n",
    "- List 2\n",
    "- List 3\n",
    "\n",
    "![](https://www.gmit.ie/sites/default/files/public/styles/advert/public/images/home/feature-box-springboard.jpg?itok=awsAFrjx)"
   ]
  },
  {
   "cell_type": "code",
   "execution_count": null,
   "id": "f2faf254-abe8-42ca-8695-9803fbf2da6d",
   "metadata": {},
   "outputs": [],
   "source": []
  }
 ],
 "metadata": {
  "kernelspec": {
   "display_name": "Python 3",
   "language": "python",
   "name": "python3"
  },
  "language_info": {
   "codemirror_mode": {
    "name": "ipython",
    "version": 3
   },
   "file_extension": ".py",
   "mimetype": "text/x-python",
   "name": "python",
   "nbconvert_exporter": "python",
   "pygments_lexer": "ipython3",
   "version": "3.8.8"
  }
 },
 "nbformat": 4,
 "nbformat_minor": 5
}
